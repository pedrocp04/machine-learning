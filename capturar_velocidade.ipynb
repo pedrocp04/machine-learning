def capturar_velocidade(velocidade, aniversario):
    
    if aniversario:
        velocidade = velocidade - 5
    else:
        velocidade = velocidade
    
    if velocidade > 80:
        return 'multa grande'
    elif velocidade > 60:
        return 'multa pequena'
    else:
        return 'sem multa'
    pass
