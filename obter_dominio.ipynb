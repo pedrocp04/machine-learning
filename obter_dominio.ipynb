def obterdominio(email):
    return email.split('@')[-1] #o numero -1 é para pegar o ultimo elemento
